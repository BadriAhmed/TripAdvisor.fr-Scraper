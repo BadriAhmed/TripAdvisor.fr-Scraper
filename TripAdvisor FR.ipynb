{
 "cells": [
  {
   "cell_type": "markdown",
   "metadata": {},
   "source": [
    "## Scraping TripAdvisor FR Reviews"
   ]
  },
  {
   "cell_type": "code",
   "execution_count": 8,
   "metadata": {},
   "outputs": [],
   "source": [
    "#import the libraries as needed\n",
    "import requests\n",
    "from selenium import webdriver\n",
    "from bs4 import BeautifulSoup\n",
    "import time\n",
    "import csv\n",
    "import warnings\n",
    "import pandas as pd\n",
    "import numpy as np\n",
    "warnings.filterwarnings(\"ignore\")"
   ]
  },
  {
   "cell_type": "code",
   "execution_count": 3,
   "metadata": {},
   "outputs": [],
   "source": [
    "#Load urls and number of reviews to scrape\n",
    "toscrape = pd.read_csv('toscrape.csv')"
   ]
  },
  {
   "cell_type": "code",
   "execution_count": 4,
   "metadata": {},
   "outputs": [],
   "source": [
    "# Store them into a list\n",
    "urls,Nbr = [],[]\n",
    "for index,row in toscrape.iterrows():\n",
    "    urls.append(str(row['Url']))\n",
    "    Nbr.append(int(row['NbCmnts']))"
   ]
  },
  {
   "cell_type": "code",
   "execution_count": 6,
   "metadata": {},
   "outputs": [],
   "source": [
    "reviews = []\n",
    "ratelist = []"
   ]
  },
  {
   "cell_type": "code",
   "execution_count": 9,
   "metadata": {
    "collapsed": true
   },
   "outputs": [
    {
     "name": "stdout",
     "output_type": "stream",
     "text": [
      "10  Comments have been collected\n"
     ]
    },
    {
     "ename": "KeyboardInterrupt",
     "evalue": "",
     "output_type": "error",
     "traceback": [
      "\u001b[0;31m---------------------------------------------------------------------------\u001b[0m",
      "\u001b[0;31mKeyboardInterrupt\u001b[0m                         Traceback (most recent call last)",
      "\u001b[0;32m<ipython-input-9-c9c6303f8e4c>\u001b[0m in \u001b[0;36m<module>\u001b[0;34m()\u001b[0m\n\u001b[1;32m     17\u001b[0m         \u001b[0murl\u001b[0m \u001b[0;34m=\u001b[0m \u001b[0murl\u001b[0m\u001b[0;34m.\u001b[0m\u001b[0mreplace\u001b[0m\u001b[0;34m(\u001b[0m\u001b[0;34m'Review'\u001b[0m\u001b[0;34m,\u001b[0m\u001b[0;34m'Review-or'\u001b[0m\u001b[0;34m+\u001b[0m\u001b[0mx\u001b[0m\u001b[0;34m)\u001b[0m\u001b[0;34m\u001b[0m\u001b[0;34m\u001b[0m\u001b[0m\n\u001b[1;32m     18\u001b[0m         \u001b[0mbrowser\u001b[0m\u001b[0;34m.\u001b[0m\u001b[0mget\u001b[0m\u001b[0;34m(\u001b[0m\u001b[0murl\u001b[0m\u001b[0;34m)\u001b[0m\u001b[0;34m\u001b[0m\u001b[0;34m\u001b[0m\u001b[0m\n\u001b[0;32m---> 19\u001b[0;31m         \u001b[0mtime\u001b[0m\u001b[0;34m.\u001b[0m\u001b[0msleep\u001b[0m\u001b[0;34m(\u001b[0m\u001b[0;36m5\u001b[0m\u001b[0;34m)\u001b[0m\u001b[0;34m\u001b[0m\u001b[0;34m\u001b[0m\u001b[0m\n\u001b[0m\u001b[1;32m     20\u001b[0m         \u001b[0melement_list\u001b[0m \u001b[0;34m=\u001b[0m \u001b[0mbrowser\u001b[0m\u001b[0;34m.\u001b[0m\u001b[0mfind_elements_by_xpath\u001b[0m\u001b[0;34m(\u001b[0m\u001b[0;34m\"//span[@class='taLnk ulBlueLinks']\"\u001b[0m\u001b[0;34m)\u001b[0m\u001b[0;34m\u001b[0m\u001b[0;34m\u001b[0m\u001b[0m\n\u001b[1;32m     21\u001b[0m         \u001b[0;31m#Iteration clicks all of the 'More' links. The 'try' statement allows the iteration\u001b[0m\u001b[0;34m\u001b[0m\u001b[0;34m\u001b[0m\u001b[0;34m\u001b[0m\u001b[0m\n",
      "\u001b[0;31mKeyboardInterrupt\u001b[0m: "
     ]
    }
   ],
   "source": [
    "for j in range (len(urls)):\n",
    "    url = urls[j]\n",
    "    Nb = Nbr[j]\n",
    "    \n",
    "        #using Chromedriver to open webpages without images\n",
    "    chrome_options = webdriver.ChromeOptions()\n",
    "    prefs = {\"profile.managed_default_content_settings.images\": 2}\n",
    "    chrome_options.add_experimental_option(\"prefs\", prefs)\n",
    "    browser = webdriver.Chrome(chrome_options=chrome_options)\n",
    "        #browser = webdriver.Chrome('chromedriver')\n",
    "    #Headers will make it look like you are using a web browser\n",
    "    headers = {'User-Agent': 'Mozilla/5.0 (X11; Linux x86_64) AppleWebKit/537.36 (KHTML, like Gecko) Chrome/42.0.2311.90 Safari/537.36'}\n",
    "    #We will use the iteration to retrieve and scrape the web pages, reviews, and ratings from each page on Trip Advisor\n",
    "    for i in range(0,Nb,10):\n",
    "        x=str(i)\n",
    "        #Navigate to the next page\n",
    "        url = url.replace('Review','Review-or'+x)\n",
    "        browser.get(url)\n",
    "        time.sleep(5)\n",
    "        element_list = browser.find_elements_by_xpath(\"//span[@class='taLnk ulBlueLinks']\")\n",
    "        #Iteration clicks all of the 'More' links. The 'try' statement allows the iteration \n",
    "        #to continue with 'pass' when an error message appears-caused by TA.\n",
    "        for e in element_list:\n",
    "            try:\n",
    "                e.click()\n",
    "            except:\n",
    "                pass\n",
    "            #Variable to get the page source through BeautifulSoup.\n",
    "        html = browser.page_source\n",
    "        response = requests.get(url, headers=headers, verify=False).text\n",
    "        soup = BeautifulSoup(response)\n",
    "    #Looping through 'div' 'reviewSelector' will help find all the review containers we need in each page that have rating and review\n",
    "        for r in soup.find_all('div', 'reviewSelector'):\n",
    "            rating = int(r.find('span','ui_bubble_rating')['class'][1].split('_')[1])/10\n",
    "            review = r.p.text\n",
    "    #Cleaning the lemmas or words in reviews now will make it easier when we start predictive modeling\n",
    "\n",
    "            reviews.append(review)\n",
    "    #Here we are using a simple control flow to recode the ratings for our model. If rating is 1-3 negative, else positive\n",
    "\n",
    "            ratelist.append(rating)\n",
    "        print(i+10,' Comments have been collected')\n",
    "    browser.quit()\n",
    "    print(\"Url nbr \",j+1,' Scraped successfully')\n",
    "print(\"Finished!\")"
   ]
  },
  {
   "cell_type": "code",
   "execution_count": 8,
   "metadata": {},
   "outputs": [],
   "source": [
    "data = pd.DataFrame({'Comment':reviews,\n",
    "                    'Rate':ratelist})\n"
   ]
  },
  {
   "cell_type": "code",
   "execution_count": 9,
   "metadata": {},
   "outputs": [
    {
     "data": {
      "text/html": [
       "<div>\n",
       "<style scoped>\n",
       "    .dataframe tbody tr th:only-of-type {\n",
       "        vertical-align: middle;\n",
       "    }\n",
       "\n",
       "    .dataframe tbody tr th {\n",
       "        vertical-align: top;\n",
       "    }\n",
       "\n",
       "    .dataframe thead th {\n",
       "        text-align: right;\n",
       "    }\n",
       "</style>\n",
       "<table border=\"1\" class=\"dataframe\">\n",
       "  <thead>\n",
       "    <tr style=\"text-align: right;\">\n",
       "      <th></th>\n",
       "      <th>Comment</th>\n",
       "      <th>Rate</th>\n",
       "    </tr>\n",
       "  </thead>\n",
       "  <tbody>\n",
       "    <tr>\n",
       "      <th>0</th>\n",
       "      <td>Service affreux et le personnel n'est pas accu...</td>\n",
       "      <td>1.0</td>\n",
       "    </tr>\n",
       "    <tr>\n",
       "      <th>1</th>\n",
       "      <td>Un très bon restaurant services impeccable fél...</td>\n",
       "      <td>4.0</td>\n",
       "    </tr>\n",
       "    <tr>\n",
       "      <th>2</th>\n",
       "      <td>Le cadre est super agréable. Que ce soit de jo...</td>\n",
       "      <td>3.0</td>\n",
       "    </tr>\n",
       "    <tr>\n",
       "      <th>3</th>\n",
       "      <td>Un très mauvais service même mediocre .\\nOn a ...</td>\n",
       "      <td>1.0</td>\n",
       "    </tr>\n",
       "    <tr>\n",
       "      <th>4</th>\n",
       "      <td>Certes le restaurant peut se targuer d’une vue...</td>\n",
       "      <td>2.0</td>\n",
       "    </tr>\n",
       "  </tbody>\n",
       "</table>\n",
       "</div>"
      ],
      "text/plain": [
       "                                             Comment  Rate\n",
       "0  Service affreux et le personnel n'est pas accu...   1.0\n",
       "1  Un très bon restaurant services impeccable fél...   4.0\n",
       "2  Le cadre est super agréable. Que ce soit de jo...   3.0\n",
       "3  Un très mauvais service même mediocre .\\nOn a ...   1.0\n",
       "4  Certes le restaurant peut se targuer d’une vue...   2.0"
      ]
     },
     "execution_count": 9,
     "metadata": {},
     "output_type": "execute_result"
    }
   ],
   "source": [
    "data.head()"
   ]
  },
  {
   "cell_type": "code",
   "execution_count": null,
   "metadata": {
    "collapsed": true
   },
   "outputs": [],
   "source": []
  }
 ],
 "metadata": {
  "kernelspec": {
   "display_name": "Python 3",
   "language": "python",
   "name": "python3"
  },
  "language_info": {
   "codemirror_mode": {
    "name": "ipython",
    "version": 3
   },
   "file_extension": ".py",
   "mimetype": "text/x-python",
   "name": "python",
   "nbconvert_exporter": "python",
   "pygments_lexer": "ipython3",
   "version": "3.6.9"
  }
 },
 "nbformat": 4,
 "nbformat_minor": 2
}
